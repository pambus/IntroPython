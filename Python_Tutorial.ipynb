{
  "cells": [
    {
      "cell_type": "markdown",
      "id": "313105ba",
      "metadata": {
        "id": "313105ba"
      },
      "source": [
        "# Tutorial Básico de Python"
      ]
    },
    {
      "cell_type": "markdown",
      "id": "6b271e62",
      "metadata": {
        "id": "6b271e62"
      },
      "source": [
        "Este tutorial cubre los conceptos fundamentales de Python, desde la sintaxis básica hasta algunas funcionalidades más avanzadas."
      ]
    },
    {
      "cell_type": "markdown",
      "id": "26f74d7a",
      "metadata": {
        "id": "26f74d7a"
      },
      "source": [
        "## Instalación de Python"
      ]
    },
    {
      "cell_type": "markdown",
      "id": "e675bbdb",
      "metadata": {
        "id": "e675bbdb"
      },
      "source": [
        "Primero, asegúrate de tener Python instalado. Puedes descargarlo desde [python.org](https://www.python.org/). La versión que utilizo es la 3.8."
      ]
    },
    {
      "cell_type": "markdown",
      "id": "8706f8c9",
      "metadata": {
        "id": "8706f8c9"
      },
      "source": [
        "## Hola Mundo"
      ]
    },
    {
      "cell_type": "code",
      "source": [
        "print(\"Hola Mundo\")"
      ],
      "metadata": {
        "id": "waCtVrxuhCec"
      },
      "id": "waCtVrxuhCec",
      "execution_count": null,
      "outputs": []
    },
    {
      "cell_type": "markdown",
      "id": "6187bbc1",
      "metadata": {
        "id": "6187bbc1"
      },
      "source": [
        "## Variables y Tipos de Datos"
      ]
    },
    {
      "cell_type": "code",
      "execution_count": null,
      "id": "dd6d3660",
      "metadata": {
        "id": "dd6d3660"
      },
      "outputs": [],
      "source": [
        "# Variables\n",
        "x = 5       # Entero\n",
        "y = 3.14    # Flotante\n",
        "nombre = \"Juan\"  # Cadena\n",
        "es_mayor = True  # Booleano\n",
        "\n",
        "print(x, y, nombre, es_mayor)"
      ]
    },
    {
      "cell_type": "markdown",
      "id": "938a92f9",
      "metadata": {
        "id": "938a92f9"
      },
      "source": [
        "## Operaciones Básicas"
      ]
    },
    {
      "cell_type": "code",
      "execution_count": null,
      "id": "12a4aa8e",
      "metadata": {
        "id": "12a4aa8e"
      },
      "outputs": [],
      "source": [
        "# Operaciones aritméticas\n",
        "a = 10\n",
        "b = 3\n",
        "print(a + b)  # Suma\n",
        "print(a - b)  # Resta\n",
        "print(a * b)  # Multiplicación\n",
        "print(a / b)  # División\n",
        "print(a % b)  # Módulo\n",
        "print(a ** b) # Potencia\n",
        "\n",
        "# Operadores lógicos\n",
        "print(a > b)  # Mayor que\n",
        "print(a < b)  # Menor que\n",
        "print(a == b) # Igual a\n",
        "print(a != b) # Diferente de\n",
        "print(a >= b) # Mayor o igual a\n",
        "print(a <= b) # Menor o igual a"
      ]
    },
    {
      "cell_type": "markdown",
      "id": "6ff8f15c",
      "metadata": {
        "id": "6ff8f15c"
      },
      "source": [
        "## Estructuras de Control"
      ]
    },
    {
      "cell_type": "markdown",
      "id": "b5fecd5a",
      "metadata": {
        "id": "b5fecd5a"
      },
      "source": [
        "### Condicionales"
      ]
    },
    {
      "cell_type": "code",
      "execution_count": 1,
      "id": "d6a2bc10",
      "metadata": {
        "colab": {
          "base_uri": "https://localhost:8080/"
        },
        "id": "d6a2bc10",
        "outputId": "f138c22f-3158-48cd-cff1-4e91660af613"
      },
      "outputs": [
        {
          "output_type": "stream",
          "name": "stdout",
          "text": [
            "Eres mayor de edad\n"
          ]
        }
      ],
      "source": [
        "edad = 18\n",
        "\n",
        "if edad >= 18:\n",
        "    print(\"Eres mayor de edad\")\n",
        "else:\n",
        "    print(\"Eres menor de edad\")"
      ]
    },
    {
      "cell_type": "markdown",
      "id": "7c63d82b",
      "metadata": {
        "id": "7c63d82b"
      },
      "source": [
        "### Bucles"
      ]
    },
    {
      "cell_type": "markdown",
      "id": "23f07dd6",
      "metadata": {
        "id": "23f07dd6"
      },
      "source": [
        "#### Bucle `for`"
      ]
    },
    {
      "cell_type": "code",
      "execution_count": 2,
      "id": "ac47b6fb",
      "metadata": {
        "colab": {
          "base_uri": "https://localhost:8080/"
        },
        "id": "ac47b6fb",
        "outputId": "bda841de-9a63-4ae0-c471-8e8f342829ff"
      },
      "outputs": [
        {
          "output_type": "stream",
          "name": "stdout",
          "text": [
            "1\n",
            "2\n",
            "3\n",
            "4\n",
            "5\n",
            "0\n",
            "1\n",
            "2\n",
            "3\n",
            "4\n"
          ]
        }
      ],
      "source": [
        "# Iterar sobre una lista\n",
        "numeros = [1, 2, 3, 4, 5]\n",
        "for numero in numeros:\n",
        "    print(numero)\n",
        "\n",
        "# Iterar sobre un rango de números\n",
        "for i in range(5):  # De 0 a 4\n",
        "    print(i)"
      ]
    },
    {
      "cell_type": "markdown",
      "id": "e0ed65d6",
      "metadata": {
        "id": "e0ed65d6"
      },
      "source": [
        "#### Bucle `while`"
      ]
    },
    {
      "cell_type": "code",
      "execution_count": 3,
      "id": "5eb0ae80",
      "metadata": {
        "colab": {
          "base_uri": "https://localhost:8080/"
        },
        "id": "5eb0ae80",
        "outputId": "46f28c4d-4c35-4f7c-e47f-fef095e39f23"
      },
      "outputs": [
        {
          "output_type": "stream",
          "name": "stdout",
          "text": [
            "0\n",
            "1\n",
            "2\n",
            "3\n",
            "4\n"
          ]
        }
      ],
      "source": [
        "# Bucle while\n",
        "i = 0\n",
        "while i < 5:\n",
        "    print(i)\n",
        "    i += 1"
      ]
    },
    {
      "cell_type": "markdown",
      "id": "31ffb9b1",
      "metadata": {
        "id": "31ffb9b1"
      },
      "source": [
        "## Listas y Diccionarios"
      ]
    },
    {
      "cell_type": "markdown",
      "id": "abd678ac",
      "metadata": {
        "id": "abd678ac"
      },
      "source": [
        "### Listas"
      ]
    },
    {
      "cell_type": "code",
      "execution_count": null,
      "id": "589ee83b",
      "metadata": {
        "id": "589ee83b"
      },
      "outputs": [],
      "source": [
        "# Crear una lista\n",
        "frutas = [\"manzana\", \"banana\", \"cereza\"]\n",
        "print(frutas)\n",
        "\n",
        "# Acceder a elementos\n",
        "print(frutas[0])  # Primer elemento\n",
        "\n",
        "# Modificar elementos\n",
        "frutas[1] = \"kiwi\"\n",
        "print(frutas)\n",
        "\n",
        "# Añadir elementos\n",
        "frutas.append(\"naranja\")\n",
        "print(frutas)\n",
        "\n",
        "# Eliminar elementos\n",
        "frutas.remove(\"manzana\")\n",
        "print(frutas)"
      ]
    },
    {
      "cell_type": "markdown",
      "source": [
        "Los objetos mutables en Python son aquellos que pueden cambiar después de ser creados, como las listas, los diccionarios y los sets. Los objetos inmutables, en cambio, no pueden modificarse después de su creación, como los strings o las tuplas.\n",
        "\n"
      ],
      "metadata": {
        "id": "mVFDyvfiklHg"
      },
      "id": "mVFDyvfiklHg"
    },
    {
      "cell_type": "markdown",
      "id": "1709eb54",
      "metadata": {
        "id": "1709eb54"
      },
      "source": [
        "### Diccionarios"
      ]
    },
    {
      "cell_type": "code",
      "execution_count": null,
      "id": "edde4383",
      "metadata": {
        "id": "edde4383"
      },
      "outputs": [],
      "source": [
        "# Crear un diccionario\n",
        "persona = {\n",
        "    \"nombre\": \"Juan\",\n",
        "    \"edad\": 30,\n",
        "    \"ciudad\": \"Madrid\"\n",
        "}\n",
        "print(persona)\n",
        "\n",
        "# Acceder a valores\n",
        "print(persona[\"nombre\"])\n",
        "\n",
        "# Modificar valores\n",
        "persona[\"edad\"] = 31\n",
        "print(persona)\n",
        "\n",
        "# Añadir nuevos pares clave-valor\n",
        "persona[\"profesion\"] = \"Ingeniero\"\n",
        "print(persona)\n",
        "\n",
        "# Eliminar pares clave-valor\n",
        "del persona[\"ciudad\"]\n",
        "print(persona)"
      ]
    },
    {
      "cell_type": "markdown",
      "source": [
        "### Sets"
      ],
      "metadata": {
        "id": "ZPy0_YoDmvrt"
      },
      "id": "ZPy0_YoDmvrt"
    },
    {
      "cell_type": "code",
      "source": [
        "# Ejemplo de cómo trabajar con sets en Python\n",
        "\n",
        "# Crear un set\n",
        "mi_set = {1, 2, 3, 4, 5}\n",
        "print(\"Set inicial:\", mi_set)\n",
        "\n",
        "# Añadir un elemento\n",
        "mi_set.add(6)\n",
        "print(\"Después de añadir 6:\", mi_set)\n",
        "\n",
        "# Eliminar un elemento\n",
        "mi_set.remove(3)\n",
        "print(\"Después de eliminar 3:\", mi_set)\n",
        "\n",
        "# Comprobar si un elemento está en el set\n",
        "print(\"¿4 está en el set?\", 4 in mi_set)\n",
        "print(\"¿10 está en el set?\", 10 in mi_set)\n",
        "\n",
        "# Unir dos sets (unión)\n",
        "otro_set = {4, 5, 6, 7, 8}\n",
        "union_set = mi_set.union(otro_set)\n",
        "print(\"Unión de sets:\", union_set)\n",
        "\n",
        "# Intersección de dos sets\n",
        "interseccion_set = mi_set.intersection(otro_set)\n",
        "print(\"Intersección de sets:\", interseccion_set)\n",
        "\n",
        "# Diferencia entre dos sets\n",
        "diferencia_set = mi_set.difference(otro_set)\n",
        "print(\"Diferencia de sets:\", diferencia_set)\n",
        "\n",
        "# Diferencia simétrica entre dos sets\n",
        "dif_simetrica_set = mi_set.symmetric_difference(otro_set)\n",
        "print(\"Diferencia simétrica de sets:\", dif_simetrica_set)\n",
        "\n",
        "# Limpiar el set\n",
        "mi_set.clear()\n",
        "print(\"Set después de limpiar:\", mi_set)\n"
      ],
      "metadata": {
        "id": "JbsaY-bVmxJH"
      },
      "id": "JbsaY-bVmxJH",
      "execution_count": null,
      "outputs": []
    },
    {
      "cell_type": "markdown",
      "source": [
        "Las listas, strings y tuplas son colecciones ordenadas (\"ordered\") de objetos. Los sets y diccionarios son colecciones \"unordered\" de objetos."
      ],
      "metadata": {
        "id": "VhdYzit6la_z"
      },
      "id": "VhdYzit6la_z"
    },
    {
      "cell_type": "markdown",
      "source": [
        "### Strings"
      ],
      "metadata": {
        "id": "154A1wxwl8hi"
      },
      "id": "154A1wxwl8hi"
    },
    {
      "cell_type": "code",
      "source": [
        "# Crear un string\n",
        "mi_string = \"Hola, Mundo!\"\n",
        "\n",
        "# Imprimir el string\n",
        "print(\"String completo:\", mi_string)\n",
        "\n",
        "# Acceder a caracteres individuales (indexación)\n",
        "primer_caracter = mi_string[0]\n",
        "print(\"Primer carácter:\", primer_caracter)\n",
        "\n",
        "# Acceder a una subcadena (slicing)\n",
        "subcadena = mi_string[0:4]\n",
        "print(\"Subcadena (0 a 4):\", subcadena)\n",
        "\n",
        "# Longitud del string\n",
        "longitud = len(mi_string)\n",
        "print(\"Longitud del string:\", longitud)\n",
        "\n",
        "# Convertir a mayúsculas\n",
        "mayusculas = mi_string.upper()\n",
        "print(\"En mayúsculas:\", mayusculas)\n",
        "\n",
        "# Convertir a minúsculas\n",
        "minusculas = mi_string.lower()\n",
        "print(\"En minúsculas:\", minusculas)\n",
        "\n",
        "# Reemplazar una subcadena\n",
        "reemplazado = mi_string.replace(\"Mundo\", \"Python\")\n",
        "print(\"Reemplazado:\", reemplazado)\n",
        "\n",
        "# Dividir el string en una lista\n",
        "lista_palabras = mi_string.split(\", \")\n",
        "print(\"Lista de palabras:\", lista_palabras)\n",
        "\n",
        "# Concatenar strings\n",
        "nuevo_string = mi_string + \" ¡Bienvenidos a la programación!\"\n",
        "print(\"Concatenado:\", nuevo_string)\n",
        "\n",
        "# Formatear strings\n",
        "nombre = \"Pamela\"\n",
        "edad = 28\n",
        "formateado = f\"Me llamo {nombre} y tengo {edad} años.\"\n",
        "print(\"Formateado:\", formateado)\n",
        "\n",
        "# Buscar una subcadena\n",
        "posicion = mi_string.find(\"Mundo\")\n",
        "print(\"Posición de 'Mundo':\", posicion)"
      ],
      "metadata": {
        "id": "aTwkvyRVl-hR"
      },
      "id": "aTwkvyRVl-hR",
      "execution_count": null,
      "outputs": []
    },
    {
      "cell_type": "markdown",
      "source": [
        "Obs: Los strings son inmutables, las variables pueden apuntar a lo que quieran."
      ],
      "metadata": {
        "id": "ADILLxkQnrXs"
      },
      "id": "ADILLxkQnrXs"
    },
    {
      "cell_type": "code",
      "source": [
        "mi_string = \"Hola, Mundo!\"\n",
        "print(mi_string)\n",
        "mi_string = \"Chao, Mundo!\"\n",
        "print(mi_string)"
      ],
      "metadata": {
        "id": "g-5tewtUoKd0"
      },
      "id": "g-5tewtUoKd0",
      "execution_count": null,
      "outputs": []
    },
    {
      "cell_type": "code",
      "source": [
        "# Ejemplo de inmutabilidad de strings en Python\n",
        "\n",
        "# Crear un string\n",
        "mi_string = \"Hola, Mundo!\"\n",
        "print(\"String original:\", mi_string)\n",
        "\n",
        "# Intentar cambiar un carácter del string (esto causará un error)\n",
        "try:\n",
        "    mi_string[0] = \"h\"\n",
        "except TypeError as e:\n",
        "    print(\"Error al intentar modificar el string:\", e)\n",
        "\n",
        "# Crear un nuevo string con la modificación deseada\n",
        "nuevo_string = \"h\" + mi_string[1:]\n",
        "print(\"Nuevo string modificado:\", nuevo_string)\n",
        "\n",
        "# Demostrar que el string original no ha cambiado\n",
        "print(\"String original después del intento de modificación:\", mi_string)"
      ],
      "metadata": {
        "id": "ws4YxM6sn07B"
      },
      "id": "ws4YxM6sn07B",
      "execution_count": null,
      "outputs": []
    },
    {
      "cell_type": "markdown",
      "source": [
        "### Tuplas"
      ],
      "metadata": {
        "id": "DKOBTVI8pr9c"
      },
      "id": "DKOBTVI8pr9c"
    },
    {
      "cell_type": "code",
      "source": [
        "# Ejemplo de cómo trabajar con tuplas en Python\n",
        "\n",
        "# Crear una tupla\n",
        "mi_tupla = (1, 2, 3, \"Hola\", 5.5)\n",
        "print(\"Tupla completa:\", mi_tupla)\n",
        "\n",
        "# Acceder a elementos individuales (indexación)\n",
        "primer_elemento = mi_tupla[0]\n",
        "print(\"Primer elemento:\", primer_elemento)\n",
        "\n",
        "# Acceder a una subtupla (slicing)\n",
        "subtupla = mi_tupla[1:4]\n",
        "print(\"Subtupla (1 a 4):\", subtupla)\n",
        "\n",
        "# Longitud de la tupla\n",
        "longitud = len(mi_tupla)\n",
        "print(\"Longitud de la tupla:\", longitud)\n",
        "\n",
        "# Intentar cambiar un elemento de la tupla (esto causará un error)\n",
        "try:\n",
        "    mi_tupla[0] = 10\n",
        "except TypeError as e:\n",
        "    print(\"Error al intentar modificar la tupla:\", e)\n",
        "\n",
        "# Concatenar tuplas\n",
        "otra_tupla = (6, 7, 8)\n",
        "tupla_concatenada = mi_tupla + otra_tupla\n",
        "print(\"Tupla concatenada:\", tupla_concatenada)\n",
        "\n",
        "# Desempaquetar una tupla\n",
        "a, b, c, d, e = mi_tupla\n",
        "print(\"Desempaquetar tupla:\", a, b, c, d, e)\n",
        "\n",
        "# Comprobar si un elemento está en la tupla\n",
        "print(\"¿'Hola' está en la tupla?\", \"Hola\" in mi_tupla)\n",
        "print(\"¿10 está en la tupla?\", 10 in mi_tupla)\n"
      ],
      "metadata": {
        "id": "rkxjOxOgoYX3"
      },
      "id": "rkxjOxOgoYX3",
      "execution_count": null,
      "outputs": []
    },
    {
      "cell_type": "code",
      "source": [
        "#Pequeño ejemplo de inmutabilidad de tuplas (Da error)\n",
        "a=(1,2)\n",
        "print(type(a))\n",
        "a[0]=3"
      ],
      "metadata": {
        "id": "ljeUi-5Ip9RH"
      },
      "id": "ljeUi-5Ip9RH",
      "execution_count": null,
      "outputs": []
    },
    {
      "cell_type": "markdown",
      "id": "51edc1f8",
      "metadata": {
        "id": "51edc1f8"
      },
      "source": [
        "## Funciones"
      ]
    },
    {
      "cell_type": "code",
      "execution_count": null,
      "id": "56c62955",
      "metadata": {
        "id": "56c62955"
      },
      "outputs": [],
      "source": [
        "# Definir una función\n",
        "def saludar(nombre):\n",
        "    print(\"Hola, {}\".format(nombre))\n",
        "\n",
        "# Llamar a una función\n",
        "saludar(\"Juan\")\n",
        "\n",
        "# Función con valor de retorno\n",
        "def sumar(a, b):\n",
        "    return a + b\n",
        "\n",
        "resultado = sumar(5, 3)\n",
        "print(resultado)"
      ]
    },
    {
      "cell_type": "markdown",
      "id": "8738beb6",
      "metadata": {
        "id": "8738beb6"
      },
      "source": [
        "## Clases y Objetos"
      ]
    },
    {
      "cell_type": "code",
      "execution_count": null,
      "id": "0bab9b6a",
      "metadata": {
        "id": "0bab9b6a"
      },
      "outputs": [],
      "source": [
        "# Definir una clase\n",
        "class Persona:\n",
        "    def __init__(self, nombre, edad):\n",
        "        self.nombre = nombre\n",
        "        self.edad = edad\n",
        "\n",
        "    def saludar(self):\n",
        "        print(f\"Hola, me llamo {self.nombre} y tengo {self.edad} años\")\n",
        "\n",
        "# Crear un objeto\n",
        "juan = Persona(\"Juan\", 30)\n",
        "\n",
        "# Llamar a un método\n",
        "juan.saludar()"
      ]
    },
    {
      "cell_type": "markdown",
      "id": "0ee9c93e",
      "metadata": {
        "id": "0ee9c93e"
      },
      "source": [
        "## Módulos y Paquetes"
      ]
    },
    {
      "cell_type": "markdown",
      "id": "685fae99",
      "metadata": {
        "id": "685fae99"
      },
      "source": [
        "Puedes organizar tu código en módulos y paquetes. Un módulo es un archivo `.py` que contiene código Python, y un paquete es una colección de módulos.\n",
        "\n",
        "### Crear un Módulo\n",
        "\n",
        "Supongamos que tienes un archivo `mimodulo.py` con el siguiente contenido:\n",
        "\n",
        "```python\n",
        "# mimodulo.py\n",
        "def saludar(nombre):\n",
        "    print(f\"Hola, {nombre}\")\n",
        "```\n",
        "\n",
        "Puedes usar este módulo en otro archivo:\n",
        "\n",
        "```python\n",
        "# main.py\n",
        "import mimodulo\n",
        "\n",
        "mimodulo.saludar(\"Juan\")\n",
        "```"
      ]
    },
    {
      "cell_type": "markdown",
      "id": "5d3fde3b",
      "metadata": {
        "id": "5d3fde3b"
      },
      "source": [
        "## Manejo de Errores"
      ]
    },
    {
      "cell_type": "code",
      "execution_count": null,
      "id": "bbb48a50",
      "metadata": {
        "id": "bbb48a50"
      },
      "outputs": [],
      "source": [
        "try:\n",
        "    # Código que puede causar una excepción\n",
        "    resultado = 10 / 0\n",
        "except ZeroDivisionError:\n",
        "    # Código que se ejecuta si ocurre una excepción\n",
        "    print(\"Error: División por cero\")\n",
        "finally:\n",
        "    # Código que se ejecuta siempre\n",
        "    print(\"Fin del bloque try-except\")"
      ]
    },
    {
      "cell_type": "markdown",
      "id": "67222f83",
      "metadata": {
        "id": "67222f83"
      },
      "source": [
        "## Mini Resumen"
      ]
    },
    {
      "cell_type": "code",
      "execution_count": null,
      "id": "a4cc99b2",
      "metadata": {
        "id": "a4cc99b2"
      },
      "outputs": [],
      "source": [
        "import math\n",
        "\n",
        "# Función para calcular el área de un círculo\n",
        "def area_circulo(radio):\n",
        "    return math.pi * radio ** 2\n",
        "\n",
        "# Clase Persona\n",
        "class Persona:\n",
        "    def __init__(self, nombre, edad):\n",
        "        self.nombre = nombre\n",
        "        self.edad = edad\n",
        "\n",
        "    def saludar(self):\n",
        "        print(f\"Hola, me llamo {self.nombre} y tengo {self.edad} años\")\n",
        "\n",
        "# Crear una persona y saludar\n",
        "juan = Persona(\"Juan\", 30)\n",
        "juan.saludar()\n",
        "\n",
        "# Calcular el área de un círculo con radio 5\n",
        "radio = 5\n",
        "area = area_circulo(radio)\n",
        "print(f\"El área de un círculo con radio {radio} es {area}\")\n",
        "\n",
        "# Lista de números\n",
        "numeros = [1, 2, 3, 4, 5]\n",
        "\n",
        "# Imprimir números utilizando un bucle for\n",
        "for numero in numeros:\n",
        "    print(numero)\n",
        "\n",
        "# Diccionario con información de una persona\n",
        "persona = {\n",
        "    \"nombre\": \"Ana\",\n",
        "    \"edad\": 25,\n",
        "    \"ciudad\": \"Barcelona\"\n",
        "}\n",
        "print(persona)"
      ]
    },
    {
      "cell_type": "markdown",
      "source": [
        "### Extra: Numpy arrays"
      ],
      "metadata": {
        "id": "k6CQY1wEwiGE"
      },
      "id": "k6CQY1wEwiGE"
    },
    {
      "cell_type": "code",
      "source": [
        "import numpy as np\n",
        "\n",
        "# Crear un array de una lista\n",
        "arr1 = np.array([1, 2, 3, 4, 5])\n",
        "print(f\"Array 1: {arr1}\")\n",
        "\n",
        "# Crear un array de ceros\n",
        "arr2 = np.zeros((3, 4))\n",
        "print(f\"Array de ceros:\\n{arr2}\")\n",
        "\n",
        "# Crear un array de valores espaciados uniformemente\n",
        "arr3 = np.linspace(0, 10, 5)\n",
        "print(f\"Array de valores espaciados uniformemente: {arr3}\")\n",
        "\n",
        "# Operaciones aritméticas\n",
        "arr4 = arr1 * 2\n",
        "print(f\"Array 1 multiplicado por 2: {arr4}\")\n",
        "\n",
        "# Indexación y slicing\n",
        "print(f\"Primer elemento de Array 1: {arr1[0]}\")\n",
        "print(f\"Últimos dos elementos de Array 1: {arr1[-2:]}\")\n",
        "\n",
        "# Funciones matemáticas\n",
        "print(f\"Raíz cuadrada de Array 1: {np.sqrt(arr1)}\")\n",
        "\n",
        "# Funciones estadísticas\n",
        "print(f\"Suma de Array 1: {np.sum(arr1)}\")\n",
        "print(f\"Media de Array 1: {np.mean(arr1)}\")\n",
        "\n",
        "# Álgebra lineal\n",
        "arr5 = np.array([[1, 2], [3, 4]])\n",
        "arr6 = np.array([[5, 6], [7, 8]])\n",
        "print(f\"Producto de matrices:\\n{np.dot(arr5, arr6)}\")\n",
        "print(f\"Matriz transpuesta de Array 5:\\n{arr5.T}\")\n"
      ],
      "metadata": {
        "id": "Yhc8XJt2wgwV"
      },
      "id": "Yhc8XJt2wgwV",
      "execution_count": null,
      "outputs": []
    }
  ],
  "metadata": {
    "colab": {
      "provenance": []
    },
    "language_info": {
      "name": "python"
    },
    "kernelspec": {
      "name": "python3",
      "display_name": "Python 3"
    }
  },
  "nbformat": 4,
  "nbformat_minor": 5
}