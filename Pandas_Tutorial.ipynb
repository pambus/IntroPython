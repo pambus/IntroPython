{
  "cells": [
    {
      "cell_type": "markdown",
      "id": "0efd2397",
      "metadata": {
        "id": "0efd2397"
      },
      "source": [
        "# Tutorial Básico de pandas"
      ]
    },
    {
      "cell_type": "markdown",
      "id": "4c2d75dd",
      "metadata": {
        "id": "4c2d75dd"
      },
      "source": [
        "Este tutorial cubre los conceptos fundamentales del uso de DataFrames en pandas."
      ]
    },
    {
      "cell_type": "markdown",
      "id": "0c06e31a",
      "metadata": {
        "id": "0c06e31a"
      },
      "source": [
        "## Instalación de pandas"
      ]
    },
    {
      "cell_type": "markdown",
      "id": "74b74b5e",
      "metadata": {
        "id": "74b74b5e"
      },
      "source": [
        "Primero, asegúrate de tener pandas instalado. Puedes instalarlo usando pip:\n",
        "\n",
        "```bash\n",
        "pip install pandas\n",
        "```"
      ]
    },
    {
      "cell_type": "markdown",
      "id": "002d56ae",
      "metadata": {
        "id": "002d56ae"
      },
      "source": [
        "## Creación de un DataFrame"
      ]
    },
    {
      "cell_type": "markdown",
      "id": "b0dd39ca",
      "metadata": {
        "id": "b0dd39ca"
      },
      "source": [
        "### A partir de un diccionario"
      ]
    },
    {
      "cell_type": "code",
      "execution_count": null,
      "id": "906986ec",
      "metadata": {
        "id": "906986ec"
      },
      "outputs": [],
      "source": [
        "import pandas as pd\n",
        "\n",
        "data = {\n",
        "    'Nombre': ['Ana', 'Luis', 'Marta'],\n",
        "    'Edad': [23, 30, 25],\n",
        "    'Ciudad': ['Madrid', 'Barcelona', 'Valencia']\n",
        "}\n",
        "\n",
        "df = pd.DataFrame(data)\n",
        "print(df)"
      ]
    },
    {
      "cell_type": "markdown",
      "id": "21765600",
      "metadata": {
        "id": "21765600"
      },
      "source": [
        "### A partir de una lista de listas"
      ]
    },
    {
      "cell_type": "code",
      "execution_count": null,
      "id": "64cf07b9",
      "metadata": {
        "id": "64cf07b9"
      },
      "outputs": [],
      "source": [
        "data = [\n",
        "    ['Ana', 23, 'Madrid'],\n",
        "    ['Luis', 30, 'Barcelona'],\n",
        "    ['Marta', 25, 'Valencia']\n",
        "]\n",
        "\n",
        "df = pd.DataFrame(data, columns=['Nombre', 'Edad', 'Ciudad'])\n",
        "print(df)"
      ]
    },
    {
      "cell_type": "markdown",
      "id": "141c08ec",
      "metadata": {
        "id": "141c08ec"
      },
      "source": [
        "### A partir de un archivo CSV"
      ]
    },
    {
      "cell_type": "code",
      "execution_count": 4,
      "id": "e09e2263",
      "metadata": {
        "colab": {
          "base_uri": "https://localhost:8080/"
        },
        "id": "e09e2263",
        "outputId": "1b6aba58-9614-4a6e-8733-df029715c585"
      },
      "outputs": [
        {
          "output_type": "stream",
          "name": "stdout",
          "text": [
            "  Nombre  Edad     Ciudad\n",
            "0    Ana    23     Madrid\n",
            "1   Luis    30  Barcelona\n",
            "2  Marta    25   Valencia\n"
          ]
        }
      ],
      "source": [
        "import pandas as pd\n",
        "# Supongamos que tienes un archivo `datos.csv` con el siguiente contenido:\n",
        "# Nombre,Edad,Ciudad\n",
        "# Ana,23,Madrid\n",
        "# Luis,30,Barcelona\n",
        "# Marta,25,Valencia\n",
        "\n",
        "# Puedes leerlo en un DataFrame así:\n",
        "df = pd.read_csv('datos.csv')\n",
        "print(df)"
      ]
    },
    {
      "cell_type": "markdown",
      "id": "bbcee938",
      "metadata": {
        "id": "bbcee938"
      },
      "source": [
        "## Exploración de Datos"
      ]
    },
    {
      "cell_type": "markdown",
      "id": "3aeb656a",
      "metadata": {
        "id": "3aeb656a"
      },
      "source": [
        "### Mostrar las primeras filas"
      ]
    },
    {
      "cell_type": "code",
      "execution_count": null,
      "id": "ec2fb32a",
      "metadata": {
        "id": "ec2fb32a"
      },
      "outputs": [],
      "source": [
        "print(df.head())"
      ]
    },
    {
      "cell_type": "markdown",
      "id": "68d3fddf",
      "metadata": {
        "id": "68d3fddf"
      },
      "source": [
        "### Mostrar información del DataFrame"
      ]
    },
    {
      "cell_type": "code",
      "execution_count": null,
      "id": "3406d8a1",
      "metadata": {
        "id": "3406d8a1"
      },
      "outputs": [],
      "source": [
        "print(df.info())"
      ]
    },
    {
      "cell_type": "markdown",
      "id": "56ec2acd",
      "metadata": {
        "id": "56ec2acd"
      },
      "source": [
        "### Describir estadísticas básicas"
      ]
    },
    {
      "cell_type": "code",
      "execution_count": null,
      "id": "d8b88fb8",
      "metadata": {
        "id": "d8b88fb8"
      },
      "outputs": [],
      "source": [
        "print(df.describe())"
      ]
    },
    {
      "cell_type": "code",
      "source": [
        "print(df['Edad'].describe())"
      ],
      "metadata": {
        "id": "UUMuyAqWtZQS"
      },
      "id": "UUMuyAqWtZQS",
      "execution_count": null,
      "outputs": []
    },
    {
      "cell_type": "markdown",
      "id": "4f914fef",
      "metadata": {
        "id": "4f914fef"
      },
      "source": [
        "## Selección y Filtrado de Datos"
      ]
    },
    {
      "cell_type": "markdown",
      "id": "5d8ad4f2",
      "metadata": {
        "id": "5d8ad4f2"
      },
      "source": [
        "### Seleccionar una columna"
      ]
    },
    {
      "cell_type": "code",
      "execution_count": null,
      "id": "3f47e343",
      "metadata": {
        "id": "3f47e343"
      },
      "outputs": [],
      "source": [
        "print(df['Nombre'])"
      ]
    },
    {
      "cell_type": "markdown",
      "id": "a3a2a86b",
      "metadata": {
        "id": "a3a2a86b"
      },
      "source": [
        "### Seleccionar múltiples columnas"
      ]
    },
    {
      "cell_type": "code",
      "execution_count": null,
      "id": "4880c716",
      "metadata": {
        "id": "4880c716"
      },
      "outputs": [],
      "source": [
        "print(df[['Nombre', 'Ciudad']])"
      ]
    },
    {
      "cell_type": "markdown",
      "id": "0f502216",
      "metadata": {
        "id": "0f502216"
      },
      "source": [
        "### Seleccionar filas por índice"
      ]
    },
    {
      "cell_type": "code",
      "execution_count": null,
      "id": "acade244",
      "metadata": {
        "id": "acade244"
      },
      "outputs": [],
      "source": [
        "print(df.iloc[0])  # Primera fila"
      ]
    },
    {
      "cell_type": "code",
      "source": [
        "print(df.iloc[0:2])  # Primeras dos filas"
      ],
      "metadata": {
        "id": "YFZSUxxhtq1B"
      },
      "id": "YFZSUxxhtq1B",
      "execution_count": null,
      "outputs": []
    },
    {
      "cell_type": "markdown",
      "id": "5303b2e8",
      "metadata": {
        "id": "5303b2e8"
      },
      "source": [
        "### Filtrar filas por condición"
      ]
    },
    {
      "cell_type": "code",
      "execution_count": null,
      "id": "333315db",
      "metadata": {
        "id": "333315db"
      },
      "outputs": [],
      "source": [
        "print(df[df['Edad'] > 25])"
      ]
    },
    {
      "cell_type": "markdown",
      "id": "5f07e335",
      "metadata": {
        "id": "5f07e335"
      },
      "source": [
        "## Manipulación de Datos"
      ]
    },
    {
      "cell_type": "markdown",
      "id": "3f6fb78b",
      "metadata": {
        "id": "3f6fb78b"
      },
      "source": [
        "### Añadir una nueva columna"
      ]
    },
    {
      "cell_type": "code",
      "execution_count": null,
      "id": "993faed9",
      "metadata": {
        "id": "993faed9"
      },
      "outputs": [],
      "source": [
        "df['País'] = 'España'\n",
        "print(df)"
      ]
    },
    {
      "cell_type": "markdown",
      "id": "bfe5e92c",
      "metadata": {
        "id": "bfe5e92c"
      },
      "source": [
        "### Modificar valores"
      ]
    },
    {
      "cell_type": "code",
      "execution_count": null,
      "id": "ded01829",
      "metadata": {
        "id": "ded01829"
      },
      "outputs": [],
      "source": [
        "df.loc[0, 'Edad'] = 24\n",
        "print(df)"
      ]
    },
    {
      "cell_type": "markdown",
      "id": "3e4466f8",
      "metadata": {
        "id": "3e4466f8"
      },
      "source": [
        "### Eliminar una columna"
      ]
    },
    {
      "cell_type": "code",
      "execution_count": null,
      "id": "1027d6d9",
      "metadata": {
        "id": "1027d6d9"
      },
      "outputs": [],
      "source": [
        "df = df.drop('País', axis=1)\n",
        "print(df)"
      ]
    },
    {
      "cell_type": "markdown",
      "id": "9256d85d",
      "metadata": {
        "id": "9256d85d"
      },
      "source": [
        "### Eliminar filas"
      ]
    },
    {
      "cell_type": "code",
      "execution_count": null,
      "id": "6be7229c",
      "metadata": {
        "id": "6be7229c"
      },
      "outputs": [],
      "source": [
        "df = df.drop(0)  # Eliminar primera fila\n",
        "print(df)"
      ]
    },
    {
      "cell_type": "markdown",
      "id": "5da0f278",
      "metadata": {
        "id": "5da0f278"
      },
      "source": [
        "## Guardar el DataFrame"
      ]
    },
    {
      "cell_type": "markdown",
      "id": "c4307faf",
      "metadata": {
        "id": "c4307faf"
      },
      "source": [
        "### Guardar como CSV"
      ]
    },
    {
      "cell_type": "code",
      "execution_count": null,
      "id": "e2f31c3f",
      "metadata": {
        "id": "e2f31c3f"
      },
      "outputs": [],
      "source": [
        "df.to_csv('datos_modificados.csv', index=False)"
      ]
    },
    {
      "cell_type": "markdown",
      "id": "b2622e27",
      "metadata": {
        "id": "b2622e27"
      },
      "source": [
        "### Guardar como Excel"
      ]
    },
    {
      "cell_type": "code",
      "execution_count": null,
      "id": "43e8c101",
      "metadata": {
        "id": "43e8c101"
      },
      "outputs": [],
      "source": [
        "df.to_excel('datos_modificados.xlsx', index=False)"
      ]
    },
    {
      "cell_type": "markdown",
      "id": "d213c98f",
      "metadata": {
        "id": "d213c98f"
      },
      "source": [
        "## Resumen"
      ]
    },
    {
      "cell_type": "code",
      "execution_count": null,
      "id": "0ce2092b",
      "metadata": {
        "id": "0ce2092b"
      },
      "outputs": [],
      "source": [
        "import pandas as pd\n",
        "\n",
        "# Crear un DataFrame a partir de un diccionario\n",
        "data = {\n",
        "    'Nombre': ['Ana', 'Luis', 'Marta'],\n",
        "    'Edad': [23, 30, 25],\n",
        "    'Ciudad': ['Madrid', 'Barcelona', 'Valencia']\n",
        "}\n",
        "\n",
        "df = pd.DataFrame(data)\n",
        "print(\"DataFrame original:\")\n",
        "print(df)\n",
        "\n",
        "# Mostrar las primeras filas\n",
        "print(\"\\nPrimeras filas:\")\n",
        "print(df.head())\n",
        "\n",
        "# Mostrar información del DataFrame\n",
        "print(\"\\nInformación del DataFrame:\")\n",
        "print(df.info())\n",
        "\n",
        "# Describir estadísticas básicas\n",
        "print(\"\\nEstadísticas descriptivas:\")\n",
        "print(df.describe())\n",
        "\n",
        "# Seleccionar una columna\n",
        "print(\"\\nColumna 'Nombre':\")\n",
        "print(df['Nombre'])\n",
        "\n",
        "# Filtrar filas por condición\n",
        "print(\"\\nFilas donde la edad es mayor a 25:\")\n",
        "print(df[df['Edad'] > 25])\n",
        "\n",
        "# Añadir una nueva columna\n",
        "df['País'] = 'España'\n",
        "print(\"\\nDataFrame con nueva columna:\")\n",
        "print(df)\n",
        "\n",
        "# Guardar el DataFrame como CSV\n",
        "df.to_csv('datos_modificados.csv', index=False)\n",
        "\n",
        "# Guardar el DataFrame como Excel\n",
        "df.to_excel('datos_modificados.xlsx', index=False)"
      ]
    }
  ],
  "metadata": {
    "colab": {
      "provenance": [],
      "collapsed_sections": [
        "5f07e335"
      ]
    },
    "language_info": {
      "name": "python"
    },
    "kernelspec": {
      "name": "python3",
      "display_name": "Python 3"
    }
  },
  "nbformat": 4,
  "nbformat_minor": 5
}